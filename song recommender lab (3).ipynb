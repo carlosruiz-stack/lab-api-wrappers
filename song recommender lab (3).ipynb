{
 "cells": [
  {
   "cell_type": "markdown",
   "id": "b1895db4",
   "metadata": {},
   "source": [
    "# scrap the website "
   ]
  },
  {
   "cell_type": "markdown",
   "id": "37123b18",
   "metadata": {},
   "source": []
  },
  {
   "cell_type": "code",
   "execution_count": 163,
   "id": "5a70658e",
   "metadata": {},
   "outputs": [],
   "source": [
    "# for this lab, the chosen website is streamsquid.com"
   ]
  },
  {
   "cell_type": "code",
   "execution_count": 164,
   "id": "2ef32e09",
   "metadata": {},
   "outputs": [],
   "source": [
    "# for the first part of the task, we only import the necessary libraries for Py web scraping \n",
    "import os \n",
    "import requests\n",
    "from bs4 import BeautifulSoup\n",
    "import pandas as pd\n",
    "import csv"
   ]
  },
  {
   "cell_type": "code",
   "execution_count": 165,
   "id": "0a90539a",
   "metadata": {},
   "outputs": [],
   "source": [
    "# send get request and retrieve content \n",
    "url = 'https://streamsquid.com/#/browse/newrel'\n",
    "response = requests.get(url)\n",
    "content = response.content"
   ]
  },
  {
   "cell_type": "code",
   "execution_count": 166,
   "id": "5b5b7a4f",
   "metadata": {},
   "outputs": [],
   "source": [
    "# parse content \n",
    "soup = BeautifulSoup(content, 'html.parser')"
   ]
  },
  {
   "cell_type": "markdown",
   "id": "210ae3b2",
   "metadata": {},
   "source": [
    "# find the container \n",
    "container = soup.find('div', class_=\"s-scroller\")\n",
    "container"
   ]
  },
  {
   "cell_type": "code",
   "execution_count": null,
   "id": "e02ce74c",
   "metadata": {},
   "outputs": [],
   "source": []
  },
  {
   "cell_type": "code",
   "execution_count": 167,
   "id": "3aa401f8",
   "metadata": {},
   "outputs": [],
   "source": [
    "# main-search-box-container"
   ]
  },
  {
   "cell_type": "code",
   "execution_count": 168,
   "id": "a6f75d62",
   "metadata": {},
   "outputs": [
    {
     "data": {
      "text/plain": [
       "<div class=\"input-wrapper\">\n",
       "<input class=\"form-control\" id=\"main-search-box\" onblur=\"this.placeholder ='Album/Artist/Song'\" onfocus=\"this.placeholder = ''\" placeholder=\"Album/Artist/Song\" type=\"text\"/>\n",
       "<div id=\"input-loading-gif\"> </div>\n",
       "<div id=\"search-clear\" title=\"clear text\"> </div>\n",
       "<div class=\"fa fa-search\" id=\"search-icon-const\"> </div>\n",
       "</div>"
      ]
     },
     "execution_count": 168,
     "metadata": {},
     "output_type": "execute_result"
    }
   ],
   "source": [
    "container = soup.find('div', class_=\"input-wrapper\")\n",
    "container"
   ]
  },
  {
   "cell_type": "code",
   "execution_count": 169,
   "id": "53efab65",
   "metadata": {},
   "outputs": [],
   "source": [
    "# input-wrapper"
   ]
  },
  {
   "cell_type": "code",
   "execution_count": 170,
   "id": "1f4ce017",
   "metadata": {},
   "outputs": [],
   "source": [
    "# the name for the csv file where I will store the output will be \"playlist.csv\"\n",
    "playlist = \"playlist.csv\""
   ]
  },
  {
   "cell_type": "markdown",
   "id": "4f6282ed",
   "metadata": {},
   "source": [
    "# retrieve the output in csv format "
   ]
  },
  {
   "cell_type": "code",
   "execution_count": 171,
   "id": "90f4bd48",
   "metadata": {},
   "outputs": [],
   "source": [
    "# in the search box, we can perform searches by song title, artist and album, this is the information that we extract \n",
    "headers = [\"Song Title\", \"Artist\", \"Year\", \"Album\", \"Duration\"]\n",
    "with open(playlist, \"w\", newline=\"\", encoding=\"utf-8\") as file:\n",
    "    writer = csv.writer(file)\n",
    "    writer.writerow(headers)\n",
    "    writer.writerows(data)"
   ]
  },
  {
   "cell_type": "markdown",
   "id": "a6d29c5e",
   "metadata": {},
   "source": [
    "# Audio features to analyse"
   ]
  },
  {
   "cell_type": "markdown",
   "id": "00c6b0b4",
   "metadata": {},
   "source": [
    "Tempo: The speed or pace of a song, typically measured in beats per minute (BPM).\n",
    "\n",
    "Pitch: The perceived frequency of a musical sound, determining whether it is high or low. Pitch can be analyzed in terms of melody, harmony, and tonality.\n",
    "\n",
    "Timbre: The quality or tone color of a sound, which helps distinguish different instruments or voices. Timbre is related to the harmonic content and envelope of the audio.\n",
    "\n",
    "Loudness: The perceived volume or intensity of a sound. Loudness is typically measured in decibels (dB).\n",
    "\n",
    "Rhythm: The arrangement of sounds in time, including patterns of beats, accents, and durations.\n",
    "\n",
    "Melody: The sequence of single notes or pitches that create a recognizable musical line or tune.\n",
    "\n",
    "Harmony: The combination of simultaneous sounds or chords that support the melody and create a sense of tonality or chord progression.\n",
    "\n",
    "Energy: The perceived intensity or activity level of a song, often derived from the amplitude and rhythmic complexity of the audio.\n",
    "\n",
    "Danceability: A measure of how suitable a song is for dancing, taking into account factors such as rhythm, tempo, and beat strength.\n",
    "\n",
    "Spectral features: Various aspects of the frequency spectrum of the audio, such as spectral centroid, spectral contrast, or spectral roll-off. These features can provide information about the distribution and characteristics of different frequencies in the music."
   ]
  },
  {
   "cell_type": "markdown",
   "id": "e8da5012",
   "metadata": {},
   "source": [
    "# start working with the dataset "
   ]
  },
  {
   "cell_type": "code",
   "execution_count": 172,
   "id": "36fea32c",
   "metadata": {},
   "outputs": [],
   "source": [
    "# read the dataset "
   ]
  },
  {
   "cell_type": "code",
   "execution_count": 173,
   "id": "8fc25859",
   "metadata": {},
   "outputs": [
    {
     "data": {
      "text/html": [
       "<div>\n",
       "<style scoped>\n",
       "    .dataframe tbody tr th:only-of-type {\n",
       "        vertical-align: middle;\n",
       "    }\n",
       "\n",
       "    .dataframe tbody tr th {\n",
       "        vertical-align: top;\n",
       "    }\n",
       "\n",
       "    .dataframe thead th {\n",
       "        text-align: right;\n",
       "    }\n",
       "</style>\n",
       "<table border=\"1\" class=\"dataframe\">\n",
       "  <thead>\n",
       "    <tr style=\"text-align: right;\">\n",
       "      <th></th>\n",
       "      <th>Song Title</th>\n",
       "      <th>Artist</th>\n",
       "      <th>Year</th>\n",
       "      <th>Album</th>\n",
       "      <th>Duration</th>\n",
       "    </tr>\n",
       "  </thead>\n",
       "  <tbody>\n",
       "  </tbody>\n",
       "</table>\n",
       "</div>"
      ],
      "text/plain": [
       "Empty DataFrame\n",
       "Columns: [Song Title, Artist, Year, Album, Duration]\n",
       "Index: []"
      ]
     },
     "execution_count": 173,
     "metadata": {},
     "output_type": "execute_result"
    }
   ],
   "source": [
    "playlist = pd.read_csv('playlist.csv')\n",
    "playlist.head()\n"
   ]
  },
  {
   "cell_type": "code",
   "execution_count": 174,
   "id": "1b8df2e0",
   "metadata": {},
   "outputs": [
    {
     "name": "stdout",
     "output_type": "stream",
     "text": [
      "<class 'pandas.core.frame.DataFrame'>\n",
      "Index: 0 entries\n",
      "Data columns (total 5 columns):\n",
      " #   Column      Non-Null Count  Dtype \n",
      "---  ------      --------------  ----- \n",
      " 0   Song Title  0 non-null      object\n",
      " 1   Artist      0 non-null      object\n",
      " 2   Year        0 non-null      object\n",
      " 3   Album       0 non-null      object\n",
      " 4   Duration    0 non-null      object\n",
      "dtypes: object(5)\n",
      "memory usage: 0.0+ bytes\n"
     ]
    }
   ],
   "source": [
    "playlist.info()"
   ]
  },
  {
   "cell_type": "code",
   "execution_count": 175,
   "id": "e9d391cf",
   "metadata": {},
   "outputs": [
    {
     "name": "stdout",
     "output_type": "stream",
     "text": [
      "       Song Title Artist Year Album Duration\n",
      "count           0      0    0     0        0\n",
      "unique          0      0    0     0        0\n",
      "top           NaN    NaN  NaN   NaN      NaN\n",
      "freq          NaN    NaN  NaN   NaN      NaN\n"
     ]
    }
   ],
   "source": [
    "# get summary statistics from the dataset\n",
    "print(playlist.describe())"
   ]
  },
  {
   "cell_type": "markdown",
   "id": "4785b618",
   "metadata": {},
   "source": [
    "# summary of csv dataset operations "
   ]
  },
  {
   "cell_type": "markdown",
   "id": "7458926f",
   "metadata": {},
   "source": [
    "Exploratory Data Analysis (EDA): Perform EDA to understand the structure, characteristics, and relationships within the dataset. Some common tasks include examining the dimensions of the dataset, checking for missing values, exploring data distributions, and visualizing patterns and relationships using plots or summary statistics.\n",
    "\n",
    "Data Preprocessing: Prepare the dataset for machine learning algorithms by handling missing data, encoding categorical variables, normalizing or scaling numerical features, and handling outliers. Pandas provides functions to handle missing values (fillna()), encode categorical variables (get_dummies()), and perform various transformations.\n",
    "\n",
    "Feature Selection/Engineering: Select or engineer relevant features that can contribute to the machine learning task. This may involve dropping irrelevant or highly correlated features, creating new features through mathematical operations or domain knowledge, or extracting information from text or images.\n",
    "\n",
    "Splitting the Dataset: Split the dataset into training and testing sets. The training set is used to train the machine learning model, while the testing set is used to evaluate its performance. Scikit-learn provides functions like train_test_split() to split the dataset into appropriate proportions.\n",
    "\n",
    "Model Training: Choose a suitable machine learning algorithm based on your task (classification, regression, clustering, etc.) and train the model using the training data. Scikit-learn provides various algorithms like decision trees, random forests, support vector machines (SVM), and neural networks, among others. Use the fit() function to train the model."
   ]
  },
  {
   "cell_type": "markdown",
   "id": "d5e91f0f",
   "metadata": {},
   "source": [
    "# exploratory data analysis "
   ]
  },
  {
   "cell_type": "markdown",
   "id": "b168980a",
   "metadata": {},
   "source": [
    "Check the dimensions of the dataset (number of rows and columns) using the shape attribute.\n",
    "Inspect the column names using the columns attribute.\n",
    "Check the data types of the columns using the dtypes attribute."
   ]
  },
  {
   "cell_type": "code",
   "execution_count": 176,
   "id": "74587b95",
   "metadata": {},
   "outputs": [
    {
     "name": "stdout",
     "output_type": "stream",
     "text": [
      "(0, 5)\n"
     ]
    }
   ],
   "source": [
    "shape = playlist.shape\n",
    "print(shape)"
   ]
  },
  {
   "cell_type": "code",
   "execution_count": 177,
   "id": "24278bbd",
   "metadata": {},
   "outputs": [
    {
     "data": {
      "text/plain": [
       "Index(['Song Title', 'Artist', 'Year', 'Album', 'Duration'], dtype='object')"
      ]
     },
     "execution_count": 177,
     "metadata": {},
     "output_type": "execute_result"
    }
   ],
   "source": [
    "playlist.columns"
   ]
  },
  {
   "cell_type": "code",
   "execution_count": 178,
   "id": "5e3581fe",
   "metadata": {},
   "outputs": [
    {
     "data": {
      "text/plain": [
       "Song Title    object\n",
       "Artist        object\n",
       "Year          object\n",
       "Album         object\n",
       "Duration      object\n",
       "dtype: object"
      ]
     },
     "execution_count": 178,
     "metadata": {},
     "output_type": "execute_result"
    }
   ],
   "source": [
    "playlist.dtypes"
   ]
  },
  {
   "cell_type": "code",
   "execution_count": 179,
   "id": "ad8dbdf7",
   "metadata": {},
   "outputs": [],
   "source": [
    "# python machine learning libraries "
   ]
  },
  {
   "cell_type": "code",
   "execution_count": 180,
   "id": "95e6dc3d",
   "metadata": {},
   "outputs": [],
   "source": [
    "import pandas as pd\n",
    "import numpy as np\n",
    "import warnings\n",
    "warnings.filterwarnings('ignore')\n",
    "from sklearn.datasets import fetch_california_housing\n",
    "from sklearn.ensemble import RandomForestRegressor\n",
    "from sklearn.model_selection import cross_val_score\n",
    "from sklearn.model_selection import train_test_split\n",
    "from sklearn.linear_model import LinearRegression\n",
    "from sklearn.neighbors import KNeighborsRegressor\n",
    "from sklearn.metrics import mean_squared_error"
   ]
  },
  {
   "cell_type": "code",
   "execution_count": 181,
   "id": "348be9cb",
   "metadata": {},
   "outputs": [],
   "source": [
    "import matplotlib.pyplot as plt\n",
    "import scipy.stats as stats\n",
    "import seaborn as sns\n",
    "from sklearn.preprocessing import OneHotEncoder\n",
    "from sklearn.metrics import r2_score, mean_squared_error, mean_absolute_error\n",
    "import warnings\n",
    "warnings.filterwarnings('ignore')"
   ]
  },
  {
   "cell_type": "code",
   "execution_count": 182,
   "id": "a072d69c",
   "metadata": {},
   "outputs": [],
   "source": [
    "from imblearn.under_sampling import TomekLinks\n",
    "from sklearn.linear_model import LogisticRegression\n",
    "from sklearn.tree import DecisionTreeClassifier"
   ]
  },
  {
   "cell_type": "markdown",
   "id": "afe21326",
   "metadata": {},
   "source": [
    "# preprocessing "
   ]
  },
  {
   "cell_type": "markdown",
   "id": "3e71e30e",
   "metadata": {},
   "source": [
    "handling missing data, encoding categorical variables, normalizing or scaling numerical features, and handling outliers. Pandas provides functions to handle missing values (fillna()), encode categorical variables (get_dummies()), and perform various transformations."
   ]
  },
  {
   "cell_type": "code",
   "execution_count": null,
   "id": "ecf28e4b",
   "metadata": {},
   "outputs": [],
   "source": []
  },
  {
   "cell_type": "code",
   "execution_count": null,
   "id": "a8800c35",
   "metadata": {},
   "outputs": [],
   "source": []
  },
  {
   "cell_type": "code",
   "execution_count": null,
   "id": "c75a42f4",
   "metadata": {},
   "outputs": [],
   "source": []
  },
  {
   "cell_type": "code",
   "execution_count": 186,
   "id": "e525e798",
   "metadata": {},
   "outputs": [],
   "source": [
    "# handling missing data"
   ]
  },
  {
   "cell_type": "code",
   "execution_count": 187,
   "id": "3b279f24",
   "metadata": {},
   "outputs": [
    {
     "data": {
      "text/plain": [
       "Song Title    False\n",
       "Artist        False\n",
       "Year          False\n",
       "Album         False\n",
       "Duration      False\n",
       "dtype: bool"
      ]
     },
     "execution_count": 187,
     "metadata": {},
     "output_type": "execute_result"
    }
   ],
   "source": [
    "playlist.isnull().any()"
   ]
  },
  {
   "cell_type": "code",
   "execution_count": 132,
   "id": "a92a3bf1",
   "metadata": {},
   "outputs": [],
   "source": [
    "# encoding categorical variables"
   ]
  },
  {
   "cell_type": "code",
   "execution_count": null,
   "id": "16b99c99",
   "metadata": {},
   "outputs": [],
   "source": []
  },
  {
   "cell_type": "code",
   "execution_count": 133,
   "id": "09bc4767",
   "metadata": {},
   "outputs": [],
   "source": [
    "# normalizing or scaling numerical features"
   ]
  },
  {
   "cell_type": "code",
   "execution_count": null,
   "id": "d83f29d5",
   "metadata": {},
   "outputs": [],
   "source": []
  },
  {
   "cell_type": "code",
   "execution_count": 134,
   "id": "5002f5b2",
   "metadata": {},
   "outputs": [],
   "source": [
    "# handling outliers "
   ]
  },
  {
   "cell_type": "code",
   "execution_count": null,
   "id": "a03c545e",
   "metadata": {},
   "outputs": [],
   "source": []
  },
  {
   "cell_type": "code",
   "execution_count": null,
   "id": "9b9acfdf",
   "metadata": {},
   "outputs": [],
   "source": [
    "# categoricals encoding "
   ]
  },
  {
   "cell_type": "code",
   "execution_count": null,
   "id": "c39ca7d3",
   "metadata": {},
   "outputs": [],
   "source": []
  },
  {
   "cell_type": "code",
   "execution_count": null,
   "id": "c9ffa2ff",
   "metadata": {},
   "outputs": [],
   "source": [
    "# feature transformation "
   ]
  },
  {
   "cell_type": "code",
   "execution_count": null,
   "id": "285d54d0",
   "metadata": {},
   "outputs": [],
   "source": []
  },
  {
   "cell_type": "code",
   "execution_count": null,
   "id": "17685aa2",
   "metadata": {},
   "outputs": [],
   "source": [
    "# fillna"
   ]
  },
  {
   "cell_type": "code",
   "execution_count": null,
   "id": "9fcac45c",
   "metadata": {},
   "outputs": [],
   "source": []
  },
  {
   "cell_type": "code",
   "execution_count": null,
   "id": "fef5395b",
   "metadata": {},
   "outputs": [],
   "source": [
    "# get dummies "
   ]
  },
  {
   "cell_type": "code",
   "execution_count": null,
   "id": "8182d462",
   "metadata": {},
   "outputs": [],
   "source": []
  },
  {
   "cell_type": "code",
   "execution_count": null,
   "id": "4e0f4367",
   "metadata": {},
   "outputs": [],
   "source": []
  },
  {
   "cell_type": "markdown",
   "id": "ed0d6d7c",
   "metadata": {},
   "source": [
    "# feature selection "
   ]
  },
  {
   "cell_type": "code",
   "execution_count": null,
   "id": "76deb6d4",
   "metadata": {},
   "outputs": [],
   "source": []
  },
  {
   "cell_type": "code",
   "execution_count": null,
   "id": "eeaefca5",
   "metadata": {},
   "outputs": [],
   "source": [
    "# train-test"
   ]
  },
  {
   "cell_type": "code",
   "execution_count": null,
   "id": "76729c8b",
   "metadata": {},
   "outputs": [],
   "source": []
  },
  {
   "cell_type": "code",
   "execution_count": null,
   "id": "4cab362f",
   "metadata": {},
   "outputs": [],
   "source": [
    "# clustering "
   ]
  },
  {
   "cell_type": "code",
   "execution_count": null,
   "id": "26ffed66",
   "metadata": {},
   "outputs": [],
   "source": []
  },
  {
   "cell_type": "code",
   "execution_count": null,
   "id": "e1c89987",
   "metadata": {},
   "outputs": [],
   "source": [
    "# visualisation "
   ]
  },
  {
   "cell_type": "code",
   "execution_count": null,
   "id": "c0b67430",
   "metadata": {},
   "outputs": [],
   "source": []
  },
  {
   "cell_type": "code",
   "execution_count": null,
   "id": "9b8dca88",
   "metadata": {},
   "outputs": [],
   "source": [
    "# summary and highlights of key findings "
   ]
  }
 ],
 "metadata": {
  "kernelspec": {
   "display_name": "Python 3 (ipykernel)",
   "language": "python",
   "name": "python3"
  },
  "language_info": {
   "codemirror_mode": {
    "name": "ipython",
    "version": 3
   },
   "file_extension": ".py",
   "mimetype": "text/x-python",
   "name": "python",
   "nbconvert_exporter": "python",
   "pygments_lexer": "ipython3",
   "version": "3.9.13"
  }
 },
 "nbformat": 4,
 "nbformat_minor": 5
}
