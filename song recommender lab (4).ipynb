{
 "cells": [
  {
   "cell_type": "markdown",
   "id": "613f1a5a",
   "metadata": {},
   "source": [
    "# scrap the website "
   ]
  },
  {
   "cell_type": "markdown",
   "id": "83c404da",
   "metadata": {},
   "source": []
  },
  {
   "cell_type": "code",
   "execution_count": 1,
   "id": "68247882",
   "metadata": {},
   "outputs": [],
   "source": [
    "# for this lab, the chosen website is streamsquid.com"
   ]
  },
  {
   "cell_type": "code",
   "execution_count": 2,
   "id": "da1b0a4b",
   "metadata": {},
   "outputs": [],
   "source": [
    "# for the first part of the task, we only import the necessary libraries for Py web scraping \n",
    "import os \n",
    "import requests\n",
    "from bs4 import BeautifulSoup\n",
    "import pandas as pd\n",
    "import csv"
   ]
  },
  {
   "cell_type": "code",
   "execution_count": 3,
   "id": "0a90539a",
   "metadata": {},
   "outputs": [],
   "source": [
    "# send get request and retrieve content \n",
    "url = 'https://streamsquid.com/#/browse/newrel'\n",
    "response = requests.get(url)\n",
    "content = response.content"
   ]
  },
  {
   "cell_type": "code",
   "execution_count": 4,
   "id": "5b5b7a4f",
   "metadata": {},
   "outputs": [],
   "source": [
    "# parse content \n",
    "soup = BeautifulSoup(content, 'html.parser')"
   ]
  },
  {
   "cell_type": "markdown",
   "id": "393dafae",
   "metadata": {},
   "source": [
    "# find the container \n",
    "container = soup.find('div', class_=\"s-scroller\")\n",
    "container"
   ]
  },
  {
   "cell_type": "code",
   "execution_count": null,
   "id": "5f5ca8d8",
   "metadata": {},
   "outputs": [],
   "source": []
  },
  {
   "cell_type": "code",
   "execution_count": 5,
   "id": "36c711b6",
   "metadata": {},
   "outputs": [],
   "source": [
    "# main-search-box-container"
   ]
  },
  {
   "cell_type": "code",
   "execution_count": 15,
   "id": "a6f75d62",
   "metadata": {},
   "outputs": [
    {
     "data": {
      "text/plain": [
       "<div class=\"queue-filter-input-wrapper\">\n",
       "<input autocomplete=\"off\" class=\"filter-form-control\" id=\"queue-filter-box-container\" onblur=\"this.placeholder ='filter'\" onfocus=\"this.placeholder = ''\" placeholder=\"filter\" type=\"text\"/>\n",
       "<div id=\"queue-filter-loading-gif\"> </div>\n",
       "<div id=\"queue-filter-clear\" title=\"clear text\"> </div>\n",
       "<div class=\"fa fa-filter\" id=\"queue-filter-icon-const\"> </div>\n",
       "</div>"
      ]
     },
     "execution_count": 15,
     "metadata": {},
     "output_type": "execute_result"
    }
   ],
   "source": [
    "container = soup.find('div', class_=\"queue-filter-input-wrapper\")\n",
    "container"
   ]
  },
  {
   "cell_type": "code",
   "execution_count": 16,
   "id": "42883225",
   "metadata": {},
   "outputs": [],
   "source": [
    "# input-wrapper"
   ]
  },
  {
   "cell_type": "code",
   "execution_count": 17,
   "id": "1f4ce017",
   "metadata": {},
   "outputs": [],
   "source": [
    "# the name for the csv file where I will store the output will be \"playlist.csv\"\n",
    "playlist = \"playlist.csv\""
   ]
  },
  {
   "cell_type": "markdown",
   "id": "76555949",
   "metadata": {},
   "source": [
    "# retrieve the output in csv format "
   ]
  },
  {
   "cell_type": "code",
   "execution_count": 18,
   "id": "ac21837a",
   "metadata": {},
   "outputs": [],
   "source": [
    "# in the search box, we can perform searches by song title, artist and album, this is the information that we extract \n",
    "headers = [\"Song Title\", \"Artist\", \"Year\", \"Album\", \"Duration\", 'tempo', 'pitch', 'energy', 'danceability']\n",
    "with open(playlist, \"w\", newline=\"\", encoding=\"utf-8\") as file:\n",
    "    writer = csv.writer(file)\n",
    "    writer.writerow(headers)\n",
    "    writer.writerows(playlist)"
   ]
  },
  {
   "cell_type": "code",
   "execution_count": null,
   "id": "1e2c223d",
   "metadata": {},
   "outputs": [],
   "source": []
  },
  {
   "cell_type": "markdown",
   "id": "487cbfea",
   "metadata": {},
   "source": []
  },
  {
   "cell_type": "markdown",
   "id": "cfb37da9",
   "metadata": {},
   "source": []
  },
  {
   "cell_type": "markdown",
   "id": "8a8fe19b",
   "metadata": {},
   "source": [
    "# start working with the dataset "
   ]
  },
  {
   "cell_type": "code",
   "execution_count": 19,
   "id": "36fea32c",
   "metadata": {},
   "outputs": [],
   "source": [
    "# read the dataset "
   ]
  },
  {
   "cell_type": "code",
   "execution_count": 20,
   "id": "3912bac1",
   "metadata": {},
   "outputs": [
    {
     "data": {
      "text/html": [
       "<div>\n",
       "<style scoped>\n",
       "    .dataframe tbody tr th:only-of-type {\n",
       "        vertical-align: middle;\n",
       "    }\n",
       "\n",
       "    .dataframe tbody tr th {\n",
       "        vertical-align: top;\n",
       "    }\n",
       "\n",
       "    .dataframe thead th {\n",
       "        text-align: right;\n",
       "    }\n",
       "</style>\n",
       "<table border=\"1\" class=\"dataframe\">\n",
       "  <thead>\n",
       "    <tr style=\"text-align: right;\">\n",
       "      <th></th>\n",
       "      <th>Song Title</th>\n",
       "      <th>Artist</th>\n",
       "      <th>Year</th>\n",
       "      <th>Album</th>\n",
       "      <th>Duration</th>\n",
       "      <th>tempo</th>\n",
       "      <th>pitch</th>\n",
       "      <th>energy</th>\n",
       "      <th>danceability</th>\n",
       "    </tr>\n",
       "  </thead>\n",
       "  <tbody>\n",
       "    <tr>\n",
       "      <th>0</th>\n",
       "      <td>p</td>\n",
       "      <td>NaN</td>\n",
       "      <td>NaN</td>\n",
       "      <td>NaN</td>\n",
       "      <td>NaN</td>\n",
       "      <td>NaN</td>\n",
       "      <td>NaN</td>\n",
       "      <td>NaN</td>\n",
       "      <td>NaN</td>\n",
       "    </tr>\n",
       "    <tr>\n",
       "      <th>1</th>\n",
       "      <td>l</td>\n",
       "      <td>NaN</td>\n",
       "      <td>NaN</td>\n",
       "      <td>NaN</td>\n",
       "      <td>NaN</td>\n",
       "      <td>NaN</td>\n",
       "      <td>NaN</td>\n",
       "      <td>NaN</td>\n",
       "      <td>NaN</td>\n",
       "    </tr>\n",
       "    <tr>\n",
       "      <th>2</th>\n",
       "      <td>a</td>\n",
       "      <td>NaN</td>\n",
       "      <td>NaN</td>\n",
       "      <td>NaN</td>\n",
       "      <td>NaN</td>\n",
       "      <td>NaN</td>\n",
       "      <td>NaN</td>\n",
       "      <td>NaN</td>\n",
       "      <td>NaN</td>\n",
       "    </tr>\n",
       "    <tr>\n",
       "      <th>3</th>\n",
       "      <td>y</td>\n",
       "      <td>NaN</td>\n",
       "      <td>NaN</td>\n",
       "      <td>NaN</td>\n",
       "      <td>NaN</td>\n",
       "      <td>NaN</td>\n",
       "      <td>NaN</td>\n",
       "      <td>NaN</td>\n",
       "      <td>NaN</td>\n",
       "    </tr>\n",
       "    <tr>\n",
       "      <th>4</th>\n",
       "      <td>l</td>\n",
       "      <td>NaN</td>\n",
       "      <td>NaN</td>\n",
       "      <td>NaN</td>\n",
       "      <td>NaN</td>\n",
       "      <td>NaN</td>\n",
       "      <td>NaN</td>\n",
       "      <td>NaN</td>\n",
       "      <td>NaN</td>\n",
       "    </tr>\n",
       "  </tbody>\n",
       "</table>\n",
       "</div>"
      ],
      "text/plain": [
       "  Song Title  Artist  Year  Album  Duration  tempo  pitch  energy  \\\n",
       "0          p     NaN   NaN    NaN       NaN    NaN    NaN     NaN   \n",
       "1          l     NaN   NaN    NaN       NaN    NaN    NaN     NaN   \n",
       "2          a     NaN   NaN    NaN       NaN    NaN    NaN     NaN   \n",
       "3          y     NaN   NaN    NaN       NaN    NaN    NaN     NaN   \n",
       "4          l     NaN   NaN    NaN       NaN    NaN    NaN     NaN   \n",
       "\n",
       "   danceability  \n",
       "0           NaN  \n",
       "1           NaN  \n",
       "2           NaN  \n",
       "3           NaN  \n",
       "4           NaN  "
      ]
     },
     "execution_count": 20,
     "metadata": {},
     "output_type": "execute_result"
    }
   ],
   "source": [
    "playlist = pd.read_csv('playlist.csv')\n",
    "playlist.head()\n"
   ]
  },
  {
   "cell_type": "code",
   "execution_count": 21,
   "id": "ea790f53",
   "metadata": {},
   "outputs": [],
   "source": [
    "# In the dataset provided, we gather information on the song name, artist, release year, album and duration "
   ]
  },
  {
   "cell_type": "code",
   "execution_count": 22,
   "id": "aa852b65",
   "metadata": {},
   "outputs": [
    {
     "name": "stdout",
     "output_type": "stream",
     "text": [
      "<class 'pandas.core.frame.DataFrame'>\n",
      "RangeIndex: 12 entries, 0 to 11\n",
      "Data columns (total 9 columns):\n",
      " #   Column        Non-Null Count  Dtype  \n",
      "---  ------        --------------  -----  \n",
      " 0   Song Title    12 non-null     object \n",
      " 1   Artist        0 non-null      float64\n",
      " 2   Year          0 non-null      float64\n",
      " 3   Album         0 non-null      float64\n",
      " 4   Duration      0 non-null      float64\n",
      " 5   tempo         0 non-null      float64\n",
      " 6   pitch         0 non-null      float64\n",
      " 7   energy        0 non-null      float64\n",
      " 8   danceability  0 non-null      float64\n",
      "dtypes: float64(8), object(1)\n",
      "memory usage: 992.0+ bytes\n"
     ]
    }
   ],
   "source": [
    "playlist.info()"
   ]
  },
  {
   "cell_type": "code",
   "execution_count": 23,
   "id": "e9d391cf",
   "metadata": {},
   "outputs": [
    {
     "name": "stdout",
     "output_type": "stream",
     "text": [
      "       Artist  Year  Album  Duration  tempo  pitch  energy  danceability\n",
      "count     0.0   0.0    0.0       0.0    0.0    0.0     0.0           0.0\n",
      "mean      NaN   NaN    NaN       NaN    NaN    NaN     NaN           NaN\n",
      "std       NaN   NaN    NaN       NaN    NaN    NaN     NaN           NaN\n",
      "min       NaN   NaN    NaN       NaN    NaN    NaN     NaN           NaN\n",
      "25%       NaN   NaN    NaN       NaN    NaN    NaN     NaN           NaN\n",
      "50%       NaN   NaN    NaN       NaN    NaN    NaN     NaN           NaN\n",
      "75%       NaN   NaN    NaN       NaN    NaN    NaN     NaN           NaN\n",
      "max       NaN   NaN    NaN       NaN    NaN    NaN     NaN           NaN\n"
     ]
    }
   ],
   "source": [
    "# get summary statistics from the dataset\n",
    "print(playlist.describe())"
   ]
  },
  {
   "cell_type": "code",
   "execution_count": null,
   "id": "213cd124",
   "metadata": {},
   "outputs": [],
   "source": []
  },
  {
   "cell_type": "markdown",
   "id": "05344078",
   "metadata": {},
   "source": [
    "# summary of csv dataset operations "
   ]
  },
  {
   "cell_type": "markdown",
   "id": "b02c5c1e",
   "metadata": {},
   "source": [
    "Exploratory Data Analysis (EDA): Perform EDA to understand the structure, characteristics, and relationships within the dataset. Some common tasks include examining the dimensions of the dataset, checking for missing values, exploring data distributions, and visualizing patterns and relationships using plots or summary statistics.\n",
    "\n",
    "Data Preprocessing: Prepare the dataset for machine learning algorithms by handling missing data, encoding categorical variables, normalizing or scaling numerical features, and handling outliers. Pandas provides functions to handle missing values (fillna()), encode categorical variables (get_dummies()), and perform various transformations.\n",
    "\n",
    "Feature Selection/Engineering: Select or engineer relevant features that can contribute to the machine learning task. This may involve dropping irrelevant or highly correlated features, creating new features through mathematical operations or domain knowledge, or extracting information from text or images.\n",
    "\n",
    "Splitting the Dataset: Split the dataset into training and testing sets. The training set is used to train the machine learning model, while the testing set is used to evaluate its performance. Scikit-learn provides functions like train_test_split() to split the dataset into appropriate proportions.\n",
    "\n",
    "Model Training: Choose a suitable machine learning algorithm based on your task (classification, regression, clustering, etc.) and train the model using the training data. Scikit-learn provides various algorithms like decision trees, random forests, support vector machines (SVM), and neural networks, among others. Use the fit() function to train the model."
   ]
  },
  {
   "cell_type": "markdown",
   "id": "2efd471e",
   "metadata": {},
   "source": [
    "# exploratory data analysis "
   ]
  },
  {
   "cell_type": "markdown",
   "id": "2917e05f",
   "metadata": {},
   "source": [
    "Check the dimensions of the dataset (number of rows and columns) using the shape attribute.\n",
    "Inspect the column names using the columns attribute.\n",
    "Check the data types of the columns using the dtypes attribute."
   ]
  },
  {
   "cell_type": "code",
   "execution_count": null,
   "id": "c8d83917",
   "metadata": {},
   "outputs": [],
   "source": [
    "shape = playlist.shape\n",
    "print(shape)"
   ]
  },
  {
   "cell_type": "code",
   "execution_count": null,
   "id": "97a4654a",
   "metadata": {},
   "outputs": [],
   "source": [
    "playlist.columns"
   ]
  },
  {
   "cell_type": "code",
   "execution_count": null,
   "id": "9e6ed0ac",
   "metadata": {},
   "outputs": [],
   "source": [
    "playlist.dtypes"
   ]
  },
  {
   "cell_type": "code",
   "execution_count": null,
   "id": "1912435a",
   "metadata": {},
   "outputs": [],
   "source": [
    "# python machine learning libraries "
   ]
  },
  {
   "cell_type": "code",
   "execution_count": null,
   "id": "536e5e91",
   "metadata": {},
   "outputs": [],
   "source": [
    "import pandas as pd\n",
    "import numpy as np\n",
    "import warnings\n",
    "warnings.filterwarnings('ignore')\n",
    "from sklearn.datasets import fetch_california_housing\n",
    "from sklearn.ensemble import RandomForestRegressor\n",
    "from sklearn.model_selection import cross_val_score\n",
    "from sklearn.model_selection import train_test_split\n",
    "from sklearn.linear_model import LinearRegression\n",
    "from sklearn.neighbors import KNeighborsRegressor\n",
    "from sklearn.metrics import mean_squared_error"
   ]
  },
  {
   "cell_type": "code",
   "execution_count": null,
   "id": "afa36190",
   "metadata": {},
   "outputs": [],
   "source": [
    "import matplotlib.pyplot as plt\n",
    "import scipy.stats as stats\n",
    "import seaborn as sns\n",
    "from sklearn.preprocessing import OneHotEncoder\n",
    "from sklearn.preprocessing import LabelEncoder\n",
    "from sklearn.metrics import r2_score, mean_squared_error, mean_absolute_error\n",
    "import warnings\n",
    "warnings.filterwarnings('ignore')"
   ]
  },
  {
   "cell_type": "code",
   "execution_count": null,
   "id": "538bf62d",
   "metadata": {},
   "outputs": [],
   "source": [
    "from imblearn.under_sampling import TomekLinks\n",
    "from sklearn.linear_model import LogisticRegression\n",
    "from sklearn.tree import DecisionTreeClassifier"
   ]
  },
  {
   "cell_type": "markdown",
   "id": "84574113",
   "metadata": {},
   "source": [
    "# preprocessing "
   ]
  },
  {
   "cell_type": "markdown",
   "id": "499ef1f4",
   "metadata": {},
   "source": [
    "handling missing data, encoding categorical variables, normalizing or scaling numerical features, and handling outliers. Pandas provides functions to handle missing values (fillna()), encode categorical variables (get_dummies()), and perform various transformations."
   ]
  },
  {
   "cell_type": "code",
   "execution_count": null,
   "id": "bdad318c",
   "metadata": {},
   "outputs": [],
   "source": [
    "# handling missing data"
   ]
  },
  {
   "cell_type": "code",
   "execution_count": null,
   "id": "d3344e5d",
   "metadata": {},
   "outputs": [],
   "source": [
    "playlist.isnull().any()"
   ]
  },
  {
   "cell_type": "code",
   "execution_count": null,
   "id": "19a185ea",
   "metadata": {},
   "outputs": [],
   "source": [
    "# encoding categorical variables"
   ]
  },
  {
   "cell_type": "code",
   "execution_count": null,
   "id": "31e87a56",
   "metadata": {},
   "outputs": [],
   "source": [
    "# Load the playlist dataset\n",
    "playlist = pd.read_csv(\"playlist.csv\")\n",
    "\n",
    "# One-Hot Encoding\n",
    "one_hot_encoded = pd.get_dummies(playlist[[\"Artist\", \"Album\"]])\n",
    "one_hot_encoded_playlist = pd.concat([playlist, one_hot_encoded], axis=1)\n",
    "print(\"One-Hot Encoded Playlist:\")\n",
    "print(one_hot_encoded_playlist)\n",
    "\n",
    "# Label Encoding\n",
    "label_encoder = LabelEncoder()\n",
    "playlist[\"Artist_Label\"] = label_encoder.fit_transform(playlist[\"Artist\"])\n",
    "playlist[\"Album_Label\"] = label_encoder.fit_transform(playlist[\"Album\"])\n",
    "print(\"\\nLabel Encoded Playlist:\")\n",
    "print(playlist)"
   ]
  },
  {
   "cell_type": "code",
   "execution_count": null,
   "id": "d2ad10cc",
   "metadata": {},
   "outputs": [],
   "source": [
    "# Streamlit data visualisation "
   ]
  },
  {
   "cell_type": "code",
   "execution_count": null,
   "id": "3516f9cb",
   "metadata": {},
   "outputs": [],
   "source": [
    "# in this section, we will deploy yhe streamlit app with the user input"
   ]
  },
  {
   "cell_type": "code",
   "execution_count": null,
   "id": "2503ca4e",
   "metadata": {},
   "outputs": [],
   "source": [
    "# we install the required libraries "
   ]
  },
  {
   "cell_type": "code",
   "execution_count": null,
   "id": "b89e723b",
   "metadata": {},
   "outputs": [],
   "source": [
    "import streamlit as st\n",
    "st.set_page_config(page_title=\"Song Recommendation\", layout=\"wide\")\n",
    "import pandas as pd\n",
    "from sklearn.neighbors import NearestNeighbors\n",
    "import plotly.express as px\n",
    "import streamlit.components.v1 as components"
   ]
  },
  {
   "cell_type": "code",
   "execution_count": null,
   "id": "3f6a138f",
   "metadata": {},
   "outputs": [],
   "source": [
    "# summary and highlights of key findings "
   ]
  },
  {
   "cell_type": "code",
   "execution_count": null,
   "id": "140be944",
   "metadata": {},
   "outputs": [],
   "source": [
    "streamlit run app.py"
   ]
  },
  {
   "cell_type": "code",
   "execution_count": null,
   "id": "780e9555",
   "metadata": {},
   "outputs": [],
   "source": [
    "# we want to build a recommender that uses as input variables: tempo, pitch, energy, danceability, music_genre "
   ]
  },
  {
   "cell_type": "code",
   "execution_count": null,
   "id": "0005a080",
   "metadata": {},
   "outputs": [],
   "source": []
  },
  {
   "cell_type": "code",
   "execution_count": null,
   "id": "931653f6",
   "metadata": {},
   "outputs": [],
   "source": []
  },
  {
   "cell_type": "code",
   "execution_count": null,
   "id": "27d67387",
   "metadata": {},
   "outputs": [],
   "source": []
  },
  {
   "cell_type": "code",
   "execution_count": null,
   "id": "91f7b010",
   "metadata": {},
   "outputs": [],
   "source": []
  },
  {
   "cell_type": "code",
   "execution_count": null,
   "id": "d99968ee",
   "metadata": {},
   "outputs": [],
   "source": []
  },
  {
   "cell_type": "code",
   "execution_count": null,
   "id": "05afb9de",
   "metadata": {},
   "outputs": [],
   "source": []
  },
  {
   "cell_type": "code",
   "execution_count": null,
   "id": "39aae2b8",
   "metadata": {},
   "outputs": [],
   "source": []
  },
  {
   "cell_type": "code",
   "execution_count": null,
   "id": "81c8f524",
   "metadata": {},
   "outputs": [],
   "source": []
  },
  {
   "cell_type": "code",
   "execution_count": null,
   "id": "c4da1bae",
   "metadata": {},
   "outputs": [],
   "source": []
  },
  {
   "cell_type": "markdown",
   "id": "d827c164",
   "metadata": {},
   "source": []
  },
  {
   "cell_type": "code",
   "execution_count": null,
   "id": "5d24b04c",
   "metadata": {},
   "outputs": [],
   "source": []
  },
  {
   "cell_type": "code",
   "execution_count": null,
   "id": "48d6a523",
   "metadata": {},
   "outputs": [],
   "source": []
  },
  {
   "cell_type": "code",
   "execution_count": null,
   "id": "d54ef60a",
   "metadata": {},
   "outputs": [],
   "source": []
  },
  {
   "cell_type": "code",
   "execution_count": null,
   "id": "e08ba090",
   "metadata": {},
   "outputs": [],
   "source": []
  },
  {
   "cell_type": "code",
   "execution_count": null,
   "id": "d6c6efa0",
   "metadata": {},
   "outputs": [],
   "source": []
  },
  {
   "cell_type": "code",
   "execution_count": null,
   "id": "f62b75ff",
   "metadata": {},
   "outputs": [],
   "source": []
  },
  {
   "cell_type": "code",
   "execution_count": null,
   "id": "0562bc49",
   "metadata": {},
   "outputs": [],
   "source": []
  },
  {
   "cell_type": "markdown",
   "id": "3b5129da",
   "metadata": {},
   "source": []
  },
  {
   "cell_type": "code",
   "execution_count": null,
   "id": "dea1d938",
   "metadata": {},
   "outputs": [],
   "source": []
  },
  {
   "cell_type": "code",
   "execution_count": null,
   "id": "056bd58f",
   "metadata": {},
   "outputs": [],
   "source": []
  },
  {
   "cell_type": "code",
   "execution_count": null,
   "id": "54a93d5a",
   "metadata": {},
   "outputs": [],
   "source": []
  },
  {
   "cell_type": "code",
   "execution_count": null,
   "id": "c9a625e5",
   "metadata": {},
   "outputs": [],
   "source": []
  },
  {
   "cell_type": "code",
   "execution_count": null,
   "id": "0aee1a73",
   "metadata": {},
   "outputs": [],
   "source": []
  },
  {
   "cell_type": "code",
   "execution_count": null,
   "id": "4aad56fe",
   "metadata": {},
   "outputs": [],
   "source": []
  },
  {
   "cell_type": "code",
   "execution_count": null,
   "id": "001043f1",
   "metadata": {},
   "outputs": [],
   "source": []
  },
  {
   "cell_type": "code",
   "execution_count": null,
   "id": "a47a4de5",
   "metadata": {},
   "outputs": [],
   "source": []
  }
 ],
 "metadata": {
  "kernelspec": {
   "display_name": "Python 3 (ipykernel)",
   "language": "python",
   "name": "python3"
  },
  "language_info": {
   "codemirror_mode": {
    "name": "ipython",
    "version": 3
   },
   "file_extension": ".py",
   "mimetype": "text/x-python",
   "name": "python",
   "nbconvert_exporter": "python",
   "pygments_lexer": "ipython3",
   "version": "3.9.13"
  }
 },
 "nbformat": 4,
 "nbformat_minor": 5
}
